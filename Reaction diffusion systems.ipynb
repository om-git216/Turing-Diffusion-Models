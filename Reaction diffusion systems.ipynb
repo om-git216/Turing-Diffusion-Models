{
 "cells": [
  {
   "cell_type": "markdown",
   "id": "21d5ab0d",
   "metadata": {},
   "source": [
    "**Turing pattern formation**  \n",
    "The simple linear version of Alan Turing's equations are:  \n",
    "$\\frac{\\partial u}{\\partial t} = a(u-h) + b(v-k) + D_u \\Delta ^2 u  \\\\\n",
    "\\frac{\\partial v}{\\partial t} = c(u-h) + d(v-k) + D_v \\Delta ^2 v  \n",
    "$  \n",
    "\n",
    "The state variables $u$ and $v$ represent concentrations of hte two chemical species. $a, b, c$ and $d$ are parameters that determine the behaviour of the reaction terms, while $h$ and $k$ are constants. $D_u$ and $D_v$ are diffusion constants"
   ]
  },
  {
   "cell_type": "code",
   "execution_count": 1,
   "id": "fc9f3232",
   "metadata": {},
   "outputs": [
    {
     "name": "stderr",
     "output_type": "stream",
     "text": [
      "\n",
      "Bad key text.latex.preview in file C:\\Users\\Omika\\anaconda3\\lib\\site-packages\\matplotlib\\mpl-data\\stylelib\\_classic_test.mplstyle, line 123 ('text.latex.preview : False')\n",
      "You probably need to get an updated matplotlibrc file from\n",
      "https://github.com/matplotlib/matplotlib/blob/v3.5.0/matplotlibrc.template\n",
      "or from the matplotlib source distribution\n",
      "\n",
      "Bad key mathtext.fallback_to_cm in file C:\\Users\\Omika\\anaconda3\\lib\\site-packages\\matplotlib\\mpl-data\\stylelib\\_classic_test.mplstyle, line 155 ('mathtext.fallback_to_cm : True  # When True, use symbols from the Computer Modern')\n",
      "You probably need to get an updated matplotlibrc file from\n",
      "https://github.com/matplotlib/matplotlib/blob/v3.5.0/matplotlibrc.template\n",
      "or from the matplotlib source distribution\n",
      "\n",
      "Bad key savefig.jpeg_quality in file C:\\Users\\Omika\\anaconda3\\lib\\site-packages\\matplotlib\\mpl-data\\stylelib\\_classic_test.mplstyle, line 418 ('savefig.jpeg_quality: 95       # when a jpeg is saved, the default quality parameter.')\n",
      "You probably need to get an updated matplotlibrc file from\n",
      "https://github.com/matplotlib/matplotlib/blob/v3.5.0/matplotlibrc.template\n",
      "or from the matplotlib source distribution\n",
      "\n",
      "Bad key keymap.all_axes in file C:\\Users\\Omika\\anaconda3\\lib\\site-packages\\matplotlib\\mpl-data\\stylelib\\_classic_test.mplstyle, line 466 ('keymap.all_axes : a                 # enable all axes')\n",
      "You probably need to get an updated matplotlibrc file from\n",
      "https://github.com/matplotlib/matplotlib/blob/v3.5.0/matplotlibrc.template\n",
      "or from the matplotlib source distribution\n",
      "\n",
      "Bad key animation.avconv_path in file C:\\Users\\Omika\\anaconda3\\lib\\site-packages\\matplotlib\\mpl-data\\stylelib\\_classic_test.mplstyle, line 477 ('animation.avconv_path: avconv     # Path to avconv binary. Without full path')\n",
      "You probably need to get an updated matplotlibrc file from\n",
      "https://github.com/matplotlib/matplotlib/blob/v3.5.0/matplotlibrc.template\n",
      "or from the matplotlib source distribution\n",
      "\n",
      "Bad key animation.avconv_args in file C:\\Users\\Omika\\anaconda3\\lib\\site-packages\\matplotlib\\mpl-data\\stylelib\\_classic_test.mplstyle, line 479 ('animation.avconv_args:            # Additional arguments to pass to avconv')\n",
      "You probably need to get an updated matplotlibrc file from\n",
      "https://github.com/matplotlib/matplotlib/blob/v3.5.0/matplotlibrc.template\n",
      "or from the matplotlib source distribution\n"
     ]
    }
   ],
   "source": [
    "import matplotlib\n",
    "matplotlib.use(\"TkAgg\")\n",
    "from pylab import *\n",
    "\n",
    "n = 100 #size of grod: n * n\n",
    "Dh = 1./ n #spatial resolution, assuming space is [0, 1] * [0, 1]\n",
    "Dt = 0.02 #temporal resolution\n",
    "\n",
    "a, b, c, d, h, k = 1, -1, 2, -1.5, 1, 1 #parameter values\n",
    "\n",
    "Du = 0.0001 #diffusion constant of u\n",
    "Dv = 0.0006 #Diffusion constant of v"
   ]
  },
  {
   "cell_type": "code",
   "execution_count": 2,
   "id": "1e1a5ab9",
   "metadata": {},
   "outputs": [],
   "source": [
    "def initialize():\n",
    "    global u, v, nextu, nextv\n",
    "    u = zeros([n, n])\n",
    "    v = zeros([n, n])\n",
    "    for x in range(n):\n",
    "        for y in range(n):\n",
    "            u[x, y] = 1 + uniform(-0.03, 0.03) #small noise is added\n",
    "            v[x, y] = 1 + uniform(-0.03, 0.03) #small noise is added\n",
    "    nextu = zeros([n, n])\n",
    "    nextv = zeros([n, n])\n",
    "    \n",
    "def observe():\n",
    "    global u, v, nextu, nextv\n",
    "    subplot(1, 2, 1)\n",
    "    cla()\n",
    "    imshow(u, vmin=0, vmax=2, cmap = cm.binary)\n",
    "    title(\"u\")\n",
    "    subplot(1, 2, 2)\n",
    "    cla()\n",
    "    imshow(v, vmin=0, vmax=2, cmap = cm.binary)\n",
    "    title(\"v\")\n",
    "    \n",
    "def update():\n",
    "    global u, v, nextu, nextv\n",
    "    for x in range(n):\n",
    "        for y in range(n):\n",
    "            #state-transition function\n",
    "            uC, uR, uL, uU, uD = u[x, y], u[(x+1)%n, y], u[(x-1)%n, y], u[x, (y+1)%n], u[x, (y-1)%n]\n",
    "            vC, vR, vL, vU, vD = v[x, y], v[(x+1)%n, y], v[(x-1)%n, y], v[x, (y+1)%n], v[x, (y-1)%n]\n",
    "            \n",
    "            uLap = (uR + uL + uU + uD -4*uC) / (Dh**2)\n",
    "            vLap = (vR + vL + vU + vD -4*uC) / (Dh**2)\n",
    "            \n",
    "            nextu[x, y] = uC + (a*(uC-h) + b*(vC - k) + Du*uLap)*Dt\n",
    "            nextv[x, y] = vC + (a*(uC-h) + b*(vC - k) + Dv*vLap)*Dt\n",
    "            \n",
    "    u, nextu = nextu, u\n",
    "    v, nextv = nextv, v"
   ]
  },
  {
   "cell_type": "code",
   "execution_count": null,
   "id": "77fb9d1f",
   "metadata": {},
   "outputs": [],
   "source": [
    "import pycxsimulator\n",
    "pycxsimulator.GUI(stepSize = 50).start(func=[initialize, observe, update])"
   ]
  },
  {
   "cell_type": "code",
   "execution_count": null,
   "id": "4f56a910",
   "metadata": {},
   "outputs": [],
   "source": []
  }
 ],
 "metadata": {
  "@webio": {
   "lastCommId": null,
   "lastKernelId": null
  },
  "kernelspec": {
   "display_name": "Python 3 (ipykernel)",
   "language": "python",
   "name": "python3"
  },
  "language_info": {
   "codemirror_mode": {
    "name": "ipython",
    "version": 3
   },
   "file_extension": ".py",
   "mimetype": "text/x-python",
   "name": "python",
   "nbconvert_exporter": "python",
   "pygments_lexer": "ipython3",
   "version": "3.8.12"
  }
 },
 "nbformat": 4,
 "nbformat_minor": 5
}
